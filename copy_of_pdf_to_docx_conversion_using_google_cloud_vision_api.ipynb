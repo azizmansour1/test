{
  "cells": [
    {
      "cell_type": "markdown",
      "metadata": {
        "id": "view-in-github",
        "colab_type": "text"
      },
      "source": [
        "<a href=\"https://colab.research.google.com/github/azizmansour1/test/blob/main/copy_of_pdf_to_docx_conversion_using_google_cloud_vision_api.ipynb\" target=\"_parent\"><img src=\"https://colab.research.google.com/assets/colab-badge.svg\" alt=\"Open In Colab\"/></a>"
      ]
    },
    {
      "cell_type": "code",
      "execution_count": 1,
      "metadata": {
        "colab": {
          "base_uri": "https://localhost:8080/"
        },
        "id": "TmhaGc9klEA3",
        "outputId": "ccf1d7c2-65e0-4ac4-ff36-6382bcf18326"
      },
      "outputs": [
        {
          "output_type": "stream",
          "name": "stdout",
          "text": [
            "Requirement already satisfied: google-cloud-vision in /usr/local/lib/python3.11/dist-packages (3.10.2)\n",
            "Requirement already satisfied: google-api-core!=2.0.*,!=2.1.*,!=2.10.*,!=2.2.*,!=2.3.*,!=2.4.*,!=2.5.*,!=2.6.*,!=2.7.*,!=2.8.*,!=2.9.*,<3.0.0,>=1.34.1 in /usr/local/lib/python3.11/dist-packages (from google-api-core[grpc]!=2.0.*,!=2.1.*,!=2.10.*,!=2.2.*,!=2.3.*,!=2.4.*,!=2.5.*,!=2.6.*,!=2.7.*,!=2.8.*,!=2.9.*,<3.0.0,>=1.34.1->google-cloud-vision) (2.25.1)\n",
            "Requirement already satisfied: google-auth!=2.24.0,!=2.25.0,<3.0.0,>=2.14.1 in /usr/local/lib/python3.11/dist-packages (from google-cloud-vision) (2.38.0)\n",
            "Requirement already satisfied: proto-plus<2.0.0,>=1.22.3 in /usr/local/lib/python3.11/dist-packages (from google-cloud-vision) (1.26.1)\n",
            "Requirement already satisfied: protobuf!=4.21.0,!=4.21.1,!=4.21.2,!=4.21.3,!=4.21.4,!=4.21.5,<7.0.0,>=3.20.2 in /usr/local/lib/python3.11/dist-packages (from google-cloud-vision) (5.29.5)\n",
            "Requirement already satisfied: googleapis-common-protos<2.0.0,>=1.56.2 in /usr/local/lib/python3.11/dist-packages (from google-api-core!=2.0.*,!=2.1.*,!=2.10.*,!=2.2.*,!=2.3.*,!=2.4.*,!=2.5.*,!=2.6.*,!=2.7.*,!=2.8.*,!=2.9.*,<3.0.0,>=1.34.1->google-api-core[grpc]!=2.0.*,!=2.1.*,!=2.10.*,!=2.2.*,!=2.3.*,!=2.4.*,!=2.5.*,!=2.6.*,!=2.7.*,!=2.8.*,!=2.9.*,<3.0.0,>=1.34.1->google-cloud-vision) (1.70.0)\n",
            "Requirement already satisfied: requests<3.0.0,>=2.18.0 in /usr/local/lib/python3.11/dist-packages (from google-api-core!=2.0.*,!=2.1.*,!=2.10.*,!=2.2.*,!=2.3.*,!=2.4.*,!=2.5.*,!=2.6.*,!=2.7.*,!=2.8.*,!=2.9.*,<3.0.0,>=1.34.1->google-api-core[grpc]!=2.0.*,!=2.1.*,!=2.10.*,!=2.2.*,!=2.3.*,!=2.4.*,!=2.5.*,!=2.6.*,!=2.7.*,!=2.8.*,!=2.9.*,<3.0.0,>=1.34.1->google-cloud-vision) (2.32.3)\n",
            "Requirement already satisfied: grpcio<2.0.0,>=1.33.2 in /usr/local/lib/python3.11/dist-packages (from google-api-core[grpc]!=2.0.*,!=2.1.*,!=2.10.*,!=2.2.*,!=2.3.*,!=2.4.*,!=2.5.*,!=2.6.*,!=2.7.*,!=2.8.*,!=2.9.*,<3.0.0,>=1.34.1->google-cloud-vision) (1.73.1)\n",
            "Requirement already satisfied: grpcio-status<2.0.0,>=1.33.2 in /usr/local/lib/python3.11/dist-packages (from google-api-core[grpc]!=2.0.*,!=2.1.*,!=2.10.*,!=2.2.*,!=2.3.*,!=2.4.*,!=2.5.*,!=2.6.*,!=2.7.*,!=2.8.*,!=2.9.*,<3.0.0,>=1.34.1->google-cloud-vision) (1.71.2)\n",
            "Requirement already satisfied: cachetools<6.0,>=2.0.0 in /usr/local/lib/python3.11/dist-packages (from google-auth!=2.24.0,!=2.25.0,<3.0.0,>=2.14.1->google-cloud-vision) (5.5.2)\n",
            "Requirement already satisfied: pyasn1-modules>=0.2.1 in /usr/local/lib/python3.11/dist-packages (from google-auth!=2.24.0,!=2.25.0,<3.0.0,>=2.14.1->google-cloud-vision) (0.4.2)\n",
            "Requirement already satisfied: rsa<5,>=3.1.4 in /usr/local/lib/python3.11/dist-packages (from google-auth!=2.24.0,!=2.25.0,<3.0.0,>=2.14.1->google-cloud-vision) (4.9.1)\n",
            "Requirement already satisfied: pyasn1<0.7.0,>=0.6.1 in /usr/local/lib/python3.11/dist-packages (from pyasn1-modules>=0.2.1->google-auth!=2.24.0,!=2.25.0,<3.0.0,>=2.14.1->google-cloud-vision) (0.6.1)\n",
            "Requirement already satisfied: charset-normalizer<4,>=2 in /usr/local/lib/python3.11/dist-packages (from requests<3.0.0,>=2.18.0->google-api-core!=2.0.*,!=2.1.*,!=2.10.*,!=2.2.*,!=2.3.*,!=2.4.*,!=2.5.*,!=2.6.*,!=2.7.*,!=2.8.*,!=2.9.*,<3.0.0,>=1.34.1->google-api-core[grpc]!=2.0.*,!=2.1.*,!=2.10.*,!=2.2.*,!=2.3.*,!=2.4.*,!=2.5.*,!=2.6.*,!=2.7.*,!=2.8.*,!=2.9.*,<3.0.0,>=1.34.1->google-cloud-vision) (3.4.2)\n",
            "Requirement already satisfied: idna<4,>=2.5 in /usr/local/lib/python3.11/dist-packages (from requests<3.0.0,>=2.18.0->google-api-core!=2.0.*,!=2.1.*,!=2.10.*,!=2.2.*,!=2.3.*,!=2.4.*,!=2.5.*,!=2.6.*,!=2.7.*,!=2.8.*,!=2.9.*,<3.0.0,>=1.34.1->google-api-core[grpc]!=2.0.*,!=2.1.*,!=2.10.*,!=2.2.*,!=2.3.*,!=2.4.*,!=2.5.*,!=2.6.*,!=2.7.*,!=2.8.*,!=2.9.*,<3.0.0,>=1.34.1->google-cloud-vision) (3.10)\n",
            "Requirement already satisfied: urllib3<3,>=1.21.1 in /usr/local/lib/python3.11/dist-packages (from requests<3.0.0,>=2.18.0->google-api-core!=2.0.*,!=2.1.*,!=2.10.*,!=2.2.*,!=2.3.*,!=2.4.*,!=2.5.*,!=2.6.*,!=2.7.*,!=2.8.*,!=2.9.*,<3.0.0,>=1.34.1->google-api-core[grpc]!=2.0.*,!=2.1.*,!=2.10.*,!=2.2.*,!=2.3.*,!=2.4.*,!=2.5.*,!=2.6.*,!=2.7.*,!=2.8.*,!=2.9.*,<3.0.0,>=1.34.1->google-cloud-vision) (2.5.0)\n",
            "Requirement already satisfied: certifi>=2017.4.17 in /usr/local/lib/python3.11/dist-packages (from requests<3.0.0,>=2.18.0->google-api-core!=2.0.*,!=2.1.*,!=2.10.*,!=2.2.*,!=2.3.*,!=2.4.*,!=2.5.*,!=2.6.*,!=2.7.*,!=2.8.*,!=2.9.*,<3.0.0,>=1.34.1->google-api-core[grpc]!=2.0.*,!=2.1.*,!=2.10.*,!=2.2.*,!=2.3.*,!=2.4.*,!=2.5.*,!=2.6.*,!=2.7.*,!=2.8.*,!=2.9.*,<3.0.0,>=1.34.1->google-cloud-vision) (2025.7.14)\n"
          ]
        }
      ],
      "source": [
        "!pip install google-cloud-vision"
      ]
    },
    {
      "cell_type": "code",
      "execution_count": 2,
      "metadata": {
        "colab": {
          "base_uri": "https://localhost:8080/"
        },
        "id": "nQACVB79lp9Z",
        "outputId": "c35ad62f-1016-474d-b63d-0a54f93f9f2b"
      },
      "outputs": [
        {
          "output_type": "stream",
          "name": "stdout",
          "text": [
            "Requirement already satisfied: python-docx in /usr/local/lib/python3.11/dist-packages (1.2.0)\n",
            "Requirement already satisfied: lxml>=3.1.0 in /usr/local/lib/python3.11/dist-packages (from python-docx) (5.4.0)\n",
            "Requirement already satisfied: typing_extensions>=4.9.0 in /usr/local/lib/python3.11/dist-packages (from python-docx) (4.14.1)\n"
          ]
        }
      ],
      "source": [
        "!pip install python-docx"
      ]
    },
    {
      "cell_type": "code",
      "execution_count": 3,
      "metadata": {
        "id": "wWVN0KaC4fF6",
        "colab": {
          "base_uri": "https://localhost:8080/"
        },
        "outputId": "81a7ff41-1771-4abe-99f9-c399ed253b2c"
      },
      "outputs": [
        {
          "output_type": "stream",
          "name": "stdout",
          "text": [
            "Environment variables GOOGLE_APPLICATION_CREDENTIALS and GOOGLE_CLOUD_PROJECT set.\n"
          ]
        }
      ],
      "source": [
        "import os\n",
        "\n",
        "# Ensure the GOOGLE_APPLICATION_CREDENTIALS variable is set\n",
        "# Replace with the actual path to your service account key file\n",
        "os.environ[\"GOOGLE_APPLICATION_CREDENTIALS\"] = \"/content/swissfmiauditor-july16-bdd81c90914e.json\"\n",
        "\n",
        "# Set the GOOGLE_CLOUD_PROJECT environment variable to your correct project ID\n",
        "os.environ[\"GOOGLE_CLOUD_PROJECT\"] = \"swissfmiauditor-july16\"\n",
        "\n",
        "print(\"Environment variables GOOGLE_APPLICATION_CREDENTIALS and GOOGLE_CLOUD_PROJECT set.\")"
      ]
    },
    {
      "cell_type": "code",
      "execution_count": 4,
      "metadata": {
        "colab": {
          "base_uri": "https://localhost:8080/"
        },
        "id": "aPnrej15jwB3",
        "outputId": "9070cdcc-9b7e-432d-8e61-28ee360a3657"
      },
      "outputs": [
        {
          "output_type": "stream",
          "name": "stdout",
          "text": [
            "Found 1 PDF files in '/content': ['SCA No.089 - Swiss FM - Labour Supply Works - Head Office-3.pdf']\n",
            "Sending PDF '/content/SCA No.089 - Swiss FM - Labour Supply Works - Head Office-3.pdf' to Google Cloud Vision API for text detection...\n",
            "Received response from Google Cloud Vision API.\n",
            "\n",
            "--- Extracted Text ---\n",
            "innovo\n",
            "Page 1 of 11\n",
            "INNOVO/PROC/HO/SCA/HOU/SFM/089/25\n",
            "عقد خدمات رقم 089/25/INNOVO/PROC/HO/SCA/HOU/SFM\n",
            "توفير العمالة اللازمة\n",
            "بمقر الشركة الرئيسي - كومبوند ميفيدا\n",
            "أنه في يوم الجمعة الموافق 18 يوليو 2025 تحرر هذا العقد بين كلاً من :\n",
            "أولاً : - شركة انوفو للبناء (ش.م.م) - سجل تجاري رقم 126987 - مكتب سجل تجاري استثمار القاهرة\n",
            "رقم التسجيل الضريبي : 573-445-728\n",
            "والكائن مقرها مبنى رقم B5 ، الدور الثالث ، المبانى الإدارية في مشروع ميفيدا - القاهرة الجديدة – محافظة القاهرة،\n",
            "ويمثلها في توقيع هذا العقد السيد...\n",
            "Successfully created DOCX file: '/content/SCA No.089 - Swiss FM - Labour Supply Works - Head Office-3.docx'\n"
          ]
        }
      ],
      "source": [
        "import os\n",
        "from google.cloud import vision\n",
        "from docx import Document\n",
        "from docx.shared import Inches\n",
        "import io\n",
        "\n",
        "def detect_document_text_from_pdf(pdf_file_path):\n",
        "    \"\"\"\n",
        "    Detects document text from a local PDF file using Google Cloud Vision API.\n",
        "    This function processes the PDF page by page to extract text.\n",
        "\n",
        "    Args:\n",
        "        pdf_file_path (str): The path to the local PDF file.\n",
        "\n",
        "    Returns:\n",
        "        str: The extracted text content from the PDF.\n",
        "    \"\"\"\n",
        "    # Initialize the Vision API client using the service account key file\n",
        "    client = vision.ImageAnnotatorClient.from_service_account_json(os.environ[\"GOOGLE_APPLICATION_CREDENTIALS\"])\n",
        "\n",
        "    # Read the PDF file content\n",
        "    with io.open(pdf_file_path, 'rb') as pdf_file:\n",
        "        content = pdf_file.read()\n",
        "\n",
        "    # Create an input config for the PDF\n",
        "    # The source is the content of the PDF file itself\n",
        "    input_config = vision.InputConfig(\n",
        "        mime_type='application/pdf',\n",
        "        content=content\n",
        "    )\n",
        "\n",
        "    # Configure the features we want to use (document text detection)\n",
        "    features = [vision.Feature(type_=vision.Feature.Type.DOCUMENT_TEXT_DETECTION)]\n",
        "\n",
        "    # Create a request for batch annotate files\n",
        "    # This allows processing multi-page documents\n",
        "    requests = [\n",
        "        vision.AnnotateFileRequest(\n",
        "            input_config=input_config,\n",
        "            features=features,\n",
        "            # You can specify pages to process, or leave empty for all pages\n",
        "            # pages=[1, 2, 3]\n",
        "        )\n",
        "    ]\n",
        "\n",
        "    print(f\"Sending PDF '{pdf_file_path}' to Google Cloud Vision API for text detection...\")\n",
        "    response = client.batch_annotate_files(requests=requests)\n",
        "    print(\"Received response from Google Cloud Vision API.\")\n",
        "\n",
        "    full_text = []\n",
        "    # Iterate over the responses for each page\n",
        "    for image_response in response.responses[0].responses:\n",
        "        if image_response.full_text_annotation:\n",
        "            full_text.append(image_response.full_text_annotation.text)\n",
        "        else:\n",
        "            full_text.append(\"\") # Append empty string if no text found on a page\n",
        "\n",
        "    return \"\\n\\n\".join(full_text) # Join text from different pages with double newline\n",
        "\n",
        "def create_docx_from_text(text_content, docx_file_path):\n",
        "    \"\"\"\n",
        "    Creates a new DOCX file and inserts the provided text content.\n",
        "\n",
        "    Args:\n",
        "        text_content (str): The text to be inserted into the DOCX.\n",
        "        docx_file_path (str): The path where the DOCX file will be saved.\n",
        "    \"\"\"\n",
        "    document = Document()\n",
        "    document.add_heading('Extracted Text from PDF', level=1)\n",
        "\n",
        "    # Add the extracted text, preserving basic paragraph breaks\n",
        "    for paragraph_text in text_content.split('\\n'):\n",
        "        document.add_paragraph(paragraph_text)\n",
        "\n",
        "    document.save(docx_file_path)\n",
        "    print(f\"Successfully created DOCX file: '{docx_file_path}'\")\n",
        "\n",
        "if __name__ == \"__main__\":\n",
        "    # --- Configuration ---\n",
        "    # Directory to search for PDF files\n",
        "    pdf_directory = \"/content\"\n",
        "    # Output directory for DOCX files\n",
        "    output_directory = \"/content\"\n",
        "\n",
        "    # Ensure output directory exists\n",
        "    os.makedirs(output_directory, exist_ok=True)\n",
        "\n",
        "    # Find all PDF files in the specified directory\n",
        "    pdf_files = [f for f in os.listdir(pdf_directory) if f.endswith('.pdf')]\n",
        "\n",
        "    if not pdf_files:\n",
        "        print(f\"No PDF files found in '{pdf_directory}'.\")\n",
        "    else:\n",
        "        print(f\"Found {len(pdf_files)} PDF files in '{pdf_directory}': {pdf_files}\")\n",
        "        for pdf_file in pdf_files:\n",
        "            input_pdf_path = os.path.join(pdf_directory, pdf_file)\n",
        "            # Create output DOCX file name based on the PDF file name\n",
        "            output_docx_path = os.path.join(output_directory, os.path.splitext(pdf_file)[0] + \".docx\")\n",
        "\n",
        "            # --- Main execution ---\n",
        "            if os.path.exists(input_pdf_path):\n",
        "                try:\n",
        "                    # Step 1: Extract text from PDF using Google Cloud Vision API\n",
        "                    extracted_text = detect_document_text_from_pdf(input_pdf_path)\n",
        "                    print(\"\\n--- Extracted Text ---\")\n",
        "                    print(extracted_text[:500] + \"...\" if len(extracted_text) > 500 else extracted_text) # Print first 500 chars\n",
        "\n",
        "                    # Step 2: Create DOCX from the extracted text\n",
        "                    create_docx_from_text(extracted_text, output_docx_path)\n",
        "\n",
        "                except Exception as e:\n",
        "                    print(f\"\\nAn error occurred during the conversion process for '{pdf_file}': {e}\")\n",
        "                    print(\"Please ensure your Google Cloud credentials are set up correctly and the Cloud Vision API is enabled.\")\n",
        "                    print(\"For authentication, set the GOOGLE_APPLICATION_CREDENTIALS environment variable.\")\n",
        "                    print(\"Example: export GOOGLE_APPLICATION_CREDENTIALS='/content/praxis-window-353407-c5e720b49c87.json'\")\n",
        "            else:\n",
        "                print(f\"Error: Input PDF file not found at '{input_pdf_path}'. Please check the path.\")"
      ]
    },
    {
      "cell_type": "code",
      "metadata": {
        "colab": {
          "base_uri": "https://localhost:8080/"
        },
        "id": "c65534ec",
        "outputId": "5063cc8a-9a6a-4dab-93b3-3d6d6ff7cc6c"
      },
      "source": [
        "import os\n",
        "from google.cloud import vision\n",
        "from docx import Document\n",
        "from docx.shared import Inches\n",
        "import io\n",
        "\n",
        "def detect_document_text_from_pdf(pdf_file_path):\n",
        "    \"\"\"\n",
        "    Detects document text from a local PDF file using Google Cloud Vision API.\n",
        "    This function processes the PDF page by page to extract text.\n",
        "\n",
        "    Args:\n",
        "        pdf_file_path (str): The path to the local PDF file.\n",
        "\n",
        "    Returns:\n",
        "        str: The extracted text content from the PDF.\n",
        "    \"\"\"\n",
        "    # Initialize the Vision API client using the service account key file\n",
        "    client = vision.ImageAnnotatorClient.from_service_account_json(os.environ[\"GOOGLE_APPLICATION_CREDENTIALS\"])\n",
        "\n",
        "    # Read the PDF file content\n",
        "    with io.open(pdf_file_path, 'rb') as pdf_file:\n",
        "        content = pdf_file.read()\n",
        "\n",
        "    # Create an input config for the PDF\n",
        "    # The source is the content of the PDF file itself\n",
        "    input_config = vision.InputConfig(\n",
        "        mime_type='application/pdf',\n",
        "        content=content\n",
        "    )\n",
        "\n",
        "    # Configure the features we want to use (document text detection)\n",
        "    features = [vision.Feature(type_=vision.Feature.Type.DOCUMENT_TEXT_DETECTION)]\n",
        "\n",
        "    # Create a request for batch annotate files\n",
        "    # This allows processing multi-page documents\n",
        "    requests = [\n",
        "        vision.AnnotateFileRequest(\n",
        "            input_config=input_config,\n",
        "            features=features,\n",
        "            # You can specify pages to process, or leave empty for all pages\n",
        "            # pages=[1, 2, 3]\n",
        "        )\n",
        "    ]\n",
        "\n",
        "    print(f\"Sending PDF '{pdf_file_path}' to Google Cloud Vision API for text detection...\")\n",
        "    response = client.batch_annotate_files(requests=requests)\n",
        "    print(\"Received response from Google Cloud Vision API.\")\n",
        "\n",
        "    full_text = []\n",
        "    # Iterate over the responses for each page\n",
        "    for image_response in response.responses[0].responses:\n",
        "        if image_response.full_text_annotation:\n",
        "            full_text.append(image_response.full_text_annotation.text)\n",
        "        else:\n",
        "            full_text.append(\"\") # Append empty string if no text found on a page\n",
        "\n",
        "    return \"\\n\\n\".join(full_text) # Join text from different pages with double newline\n",
        "\n",
        "def create_docx_from_text(text_content, docx_file_path):\n",
        "    \"\"\"\n",
        "    Creates a new DOCX file and inserts the provided text content.\n",
        "\n",
        "    Args:\n",
        "        text_content (str): The text to be inserted into the DOCX.\n",
        "        docx_file_path (str): The path where the DOCX file will be saved.\n",
        "    \"\"\"\n",
        "    document = Document()\n",
        "    document.add_heading('Extracted Text from PDF', level=1)\n",
        "\n",
        "    # Add the extracted text, preserving basic paragraph breaks\n",
        "    for paragraph_text in text_content.split('\\n'):\n",
        "        document.add_paragraph(paragraph_text)\n",
        "\n",
        "    document.save(docx_file_path)\n",
        "    print(f\"Successfully created DOCX file: '{docx_file_path}'\")\n",
        "\n",
        "if __name__ == \"__main__\":\n",
        "    # --- Configuration ---\n",
        "    # Directory to search for PDF files\n",
        "    pdf_directory = \"/content\"\n",
        "    # Output directory for DOCX files\n",
        "    output_directory = \"/content\"\n",
        "\n",
        "    # Ensure output directory exists\n",
        "    os.makedirs(output_directory, exist_ok=True)\n",
        "\n",
        "    # Find all PDF files in the specified directory\n",
        "    pdf_files = [f for f in os.listdir(pdf_directory) if f.endswith('.pdf')]\n",
        "\n",
        "    if not pdf_files:\n",
        "        print(f\"No PDF files found in '{pdf_directory}'.\")\n",
        "    else:\n",
        "        print(f\"Found {len(pdf_files)} PDF files in '{pdf_directory}': {pdf_files}\")\n",
        "        for pdf_file in pdf_files:\n",
        "            input_pdf_path = os.path.join(pdf_directory, pdf_file)\n",
        "            # Create output DOCX file name based on the PDF file name\n",
        "            output_docx_path = os.path.join(output_directory, os.path.splitext(pdf_file)[0] + \".docx\")\n",
        "\n",
        "            # --- Main execution ---\n",
        "            if os.path.exists(input_pdf_path):\n",
        "                try:\n",
        "                    # Step 1: Extract text from PDF using Google Cloud Vision API\n",
        "                    extracted_text = detect_document_text_from_pdf(input_pdf_path)\n",
        "                    print(\"\\n--- Extracted Text ---\")\n",
        "                    print(extracted_text[:500] + \"...\" if len(extracted_text) > 500 else extracted_text) # Print first 500 chars\n",
        "\n",
        "                    # Step 2: Create DOCX from the extracted text\n",
        "                    create_docx_from_text(extracted_text, output_docx_path)\n",
        "\n",
        "                except Exception as e:\n",
        "                    print(f\"\\nAn error occurred during the conversion process for '{pdf_file}': {e}\")\n",
        "                    print(\"Please ensure your Google Cloud credentials are set up correctly and the Cloud Vision API is enabled.\")\n",
        "                    print(\"For authentication, set the GOOGLE_APPLICATION_CREDENTIALS environment variable.\")\n",
        "                    print(\"Example: export GOOGLE_APPLICATION_CREDENTIALS='/content/praxis-window-353407-c5e720b49c87.json'\")\n",
        "            else:\n",
        "                print(f\"Error: Input PDF file not found at '{input_pdf_path}'. Please check the path.\")"
      ],
      "execution_count": 5,
      "outputs": [
        {
          "output_type": "stream",
          "name": "stdout",
          "text": [
            "Found 1 PDF files in '/content': ['SCA No.089 - Swiss FM - Labour Supply Works - Head Office-3.pdf']\n",
            "Sending PDF '/content/SCA No.089 - Swiss FM - Labour Supply Works - Head Office-3.pdf' to Google Cloud Vision API for text detection...\n",
            "Received response from Google Cloud Vision API.\n",
            "\n",
            "--- Extracted Text ---\n",
            "innovo\n",
            "Page 1 of 11\n",
            "INNOVO/PROC/HO/SCA/HOU/SFM/089/25\n",
            "عقد خدمات رقم 089/25/INNOVO/PROC/HO/SCA/HOU/SFM\n",
            "توفير العمالة اللازمة\n",
            "بمقر الشركة الرئيسي - كومبوند ميفيدا\n",
            "أنه في يوم الجمعة الموافق 18 يوليو 2025 تحرر هذا العقد بين كلاً من :\n",
            "أولاً : - شركة انوفو للبناء (ش.م.م) - سجل تجاري رقم 126987 - مكتب سجل تجاري استثمار القاهرة\n",
            "رقم التسجيل الضريبي : 573-445-728\n",
            "والكائن مقرها مبنى رقم B5 ، الدور الثالث ، المبانى الإدارية في مشروع ميفيدا - القاهرة الجديدة – محافظة القاهرة،\n",
            "ويمثلها في توقيع هذا العقد السيد...\n",
            "Successfully created DOCX file: '/content/SCA No.089 - Swiss FM - Labour Supply Works - Head Office-3.docx'\n"
          ]
        }
      ]
    },
    {
      "cell_type": "code",
      "metadata": {
        "colab": {
          "base_uri": "https://localhost:8080/",
          "height": 349
        },
        "id": "c2055f97",
        "outputId": "d22c7a83-e46e-489a-9255-336b64f7a9f3"
      },
      "source": [
        "from google.colab import auth\n",
        "\n",
        "# Authenticate using your Google account\n",
        "auth.authenticate_user()\n",
        "\n",
        "print('Authenticated')"
      ],
      "execution_count": 6,
      "outputs": [
        {
          "output_type": "error",
          "ename": "AuthorizationError",
          "evalue": "Failed to fetch user credentials",
          "traceback": [
            "\u001b[0;31m---------------------------------------------------------------------------\u001b[0m",
            "\u001b[0;31mAuthorizationError\u001b[0m                        Traceback (most recent call last)",
            "\u001b[0;32m/tmp/ipython-input-6-1713796909.py\u001b[0m in \u001b[0;36m<cell line: 0>\u001b[0;34m()\u001b[0m\n\u001b[1;32m      2\u001b[0m \u001b[0;34m\u001b[0m\u001b[0m\n\u001b[1;32m      3\u001b[0m \u001b[0;31m# Authenticate using your Google account\u001b[0m\u001b[0;34m\u001b[0m\u001b[0;34m\u001b[0m\u001b[0m\n\u001b[0;32m----> 4\u001b[0;31m \u001b[0mauth\u001b[0m\u001b[0;34m.\u001b[0m\u001b[0mauthenticate_user\u001b[0m\u001b[0;34m(\u001b[0m\u001b[0;34m)\u001b[0m\u001b[0;34m\u001b[0m\u001b[0;34m\u001b[0m\u001b[0m\n\u001b[0m\u001b[1;32m      5\u001b[0m \u001b[0;34m\u001b[0m\u001b[0m\n\u001b[1;32m      6\u001b[0m \u001b[0mprint\u001b[0m\u001b[0;34m(\u001b[0m\u001b[0;34m'Authenticated'\u001b[0m\u001b[0;34m)\u001b[0m\u001b[0;34m\u001b[0m\u001b[0;34m\u001b[0m\u001b[0m\n",
            "\u001b[0;32m/usr/local/lib/python3.11/dist-packages/google/colab/auth.py\u001b[0m in \u001b[0;36mauthenticate_user\u001b[0;34m(clear_output, project_id)\u001b[0m\n\u001b[1;32m    271\u001b[0m   \u001b[0;32mif\u001b[0m \u001b[0m_check_adc\u001b[0m\u001b[0;34m(\u001b[0m\u001b[0m_CredentialType\u001b[0m\u001b[0;34m.\u001b[0m\u001b[0mUSER\u001b[0m\u001b[0;34m)\u001b[0m\u001b[0;34m:\u001b[0m\u001b[0;34m\u001b[0m\u001b[0;34m\u001b[0m\u001b[0m\n\u001b[1;32m    272\u001b[0m     \u001b[0;32mreturn\u001b[0m\u001b[0;34m\u001b[0m\u001b[0;34m\u001b[0m\u001b[0m\n\u001b[0;32m--> 273\u001b[0;31m   \u001b[0;32mraise\u001b[0m \u001b[0m_errors\u001b[0m\u001b[0;34m.\u001b[0m\u001b[0mAuthorizationError\u001b[0m\u001b[0;34m(\u001b[0m\u001b[0;34m'Failed to fetch user credentials'\u001b[0m\u001b[0;34m)\u001b[0m\u001b[0;34m\u001b[0m\u001b[0;34m\u001b[0m\u001b[0m\n\u001b[0m\u001b[1;32m    274\u001b[0m \u001b[0;34m\u001b[0m\u001b[0m\n\u001b[1;32m    275\u001b[0m \u001b[0;34m\u001b[0m\u001b[0m\n",
            "\u001b[0;31mAuthorizationError\u001b[0m: Failed to fetch user credentials"
          ]
        }
      ]
    }
  ],
  "metadata": {
    "colab": {
      "provenance": [],
      "include_colab_link": true
    },
    "kernelspec": {
      "display_name": "Python 3",
      "name": "python3"
    }
  },
  "nbformat": 4,
  "nbformat_minor": 0
}